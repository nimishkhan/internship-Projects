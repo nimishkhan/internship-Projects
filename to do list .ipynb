{
 "cells": [
  {
   "cell_type": "code",
   "execution_count": 9,
   "id": "9b56c475",
   "metadata": {},
   "outputs": [],
   "source": [
    "import tkinter as tk                                                 #import tkinter for GUI\n",
    "from tkinter import messagebox                                       #now import messagebox for options in GUI\n",
    "\n",
    "def add_task():\n",
    "    task = entry.get()\n",
    "    if task:\n",
    "        listbox.insert(tk.END, task)\n",
    "        entry.delete(0, tk.END)\n",
    "    else:\n",
    "        messagebox.showwarning(\"Warning\", \"Please enter a task.\")                         #statement of print\n",
    "\n",
    "def delete_task():\n",
    "    try:\n",
    "        selected_task_index = listbox.curselection()[0]\n",
    "        listbox.delete(selected_task_index)\n",
    "    except IndexError:\n",
    "        pass\n",
    "\n",
    "def clear_tasks():\n",
    "    listbox.delete(0, tk.END)\n",
    "\n",
    "root = tk.Tk()\n",
    "root.title(\"To-Do List\")\n",
    "\n",
    "frame = tk.Frame(root)\n",
    "frame.pack(pady=10)\n",
    "\n",
    "listbox = tk.Listbox(\n",
    "    frame,\n",
    "    width=50,\n",
    "    height=30,\n",
    "    selectbackground=\"sky blue\",                                                #colour is sky blue when you click on task\n",
    "    selectmode=tk.SINGLE\n",
    ")\n",
    "listbox.pack(side=tk.LEFT)\n",
    "\n",
    "scrollbar = tk.Scrollbar(frame)\n",
    "scrollbar.pack(side=tk.RIGHT, fill=tk.Y)\n",
    "\n",
    "listbox.config(yscrollcommand=scrollbar.set)\n",
    "scrollbar.config(command=listbox.yview)\n",
    "\n",
    "entry = tk.Entry(root, width=40)\n",
    "entry.pack(pady=10)\n",
    "\n",
    "add_button = tk.Button(root, text=\"Add Task\", command=add_task)\n",
    "delete_button = tk.Button(root, text=\"Delete Task\", command=delete_task)\n",
    "clear_button = tk.Button(root, text=\"Clear All\", command=clear_tasks)\n",
    "\n",
    "add_button.pack(pady=10)\n",
    "delete_button.pack(pady=10)\n",
    "clear_button.pack(pady=10)\n",
    "\n",
    "root.mainloop()\n"
   ]
  }
 ],
 "metadata": {
  "kernelspec": {
   "display_name": "Python 3 (ipykernel)",
   "language": "python",
   "name": "python3"
  },
  "language_info": {
   "codemirror_mode": {
    "name": "ipython",
    "version": 3
   },
   "file_extension": ".py",
   "mimetype": "text/x-python",
   "name": "python",
   "nbconvert_exporter": "python",
   "pygments_lexer": "ipython3",
   "version": "3.9.13"
  }
 },
 "nbformat": 4,
 "nbformat_minor": 5
}
